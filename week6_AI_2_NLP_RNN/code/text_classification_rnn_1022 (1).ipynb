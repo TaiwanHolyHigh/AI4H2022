{
  "cells": [
    {
      "cell_type": "markdown",
      "metadata": {
        "id": "hX4n9TsbGw-f"
      },
      "source": [
        "##### Copyright 2018 The TensorFlow Authors."
      ]
    },
    {
      "cell_type": "code",
      "execution_count": 1,
      "metadata": {
        "cellView": "form",
        "id": "0nbI5DtDGw-i"
      },
      "outputs": [],
      "source": [
        "#@title Licensed under the Apache License, Version 2.0 (the \"License\");\n",
        "# you may not use this file except in compliance with the License.\n",
        "# You may obtain a copy of the License at\n",
        "#\n",
        "# https://www.apache.org/licenses/LICENSE-2.0\n",
        "#\n",
        "# Unless required by applicable law or agreed to in writing, software\n",
        "# distributed under the License is distributed on an \"AS IS\" BASIS,\n",
        "# WITHOUT WARRANTIES OR CONDITIONS OF ANY KIND, either express or implied.\n",
        "# See the License for the specific language governing permissions and\n",
        "# limitations under the License."
      ]
    },
    {
      "cell_type": "markdown",
      "metadata": {
        "id": "9TnJztDZGw-n"
      },
      "source": [
        "# Text classification with an RNN"
      ]
    },
    {
      "cell_type": "markdown",
      "metadata": {
        "id": "AfN3bMR5Gw-o"
      },
      "source": [
        "<table class=\"tfo-notebook-buttons\" align=\"left\">\n",
        "  <td>\n",
        "    <a target=\"_blank\" href=\"https://www.tensorflow.org/text/tutorials/text_classification_rnn\"><img src=\"https://www.tensorflow.org/images/tf_logo_32px.png\" />View on TensorFlow.org</a>\n",
        "  </td>\n",
        "  <td>\n",
        "    <a target=\"_blank\" href=\"https://colab.research.google.com/github/tensorflow/text/blob/master/docs/tutorials/text_classification_rnn.ipynb\"><img src=\"https://www.tensorflow.org/images/colab_logo_32px.png\" />Run in Google Colab</a>\n",
        "  </td>\n",
        "  <td>\n",
        "    <a target=\"_blank\" href=\"https://github.com/tensorflow/text/blob/master/docs/tutorials/text_classification_rnn.ipynb\"><img src=\"https://www.tensorflow.org/images/GitHub-Mark-32px.png\" />View source on GitHub</a>\n",
        "  </td>\n",
        "  <td>\n",
        "    <a href=\"https://storage.googleapis.com/tensorflow_docs/text/docs/tutorials/text_classification_rnn.ipynb\"><img src=\"https://www.tensorflow.org/images/download_logo_32px.png\" />Download notebook</a>\n",
        "  </td>\n",
        "</table>"
      ]
    },
    {
      "cell_type": "markdown",
      "metadata": {
        "id": "lUWearf0Gw-p"
      },
      "source": [
        "This text classification tutorial trains a [recurrent neural network](https://developers.google.com/machine-learning/glossary/#recurrent_neural_network) on the [IMDB large movie review dataset](http://ai.stanford.edu/~amaas/data/sentiment/) for sentiment analysis."
      ]
    },
    {
      "cell_type": "markdown",
      "metadata": {
        "id": "_2VQo4bajwUU"
      },
      "source": [
        "## Setup"
      ]
    },
    {
      "cell_type": "code",
      "execution_count": 2,
      "metadata": {
        "id": "z682XYsrjkY9"
      },
      "outputs": [],
      "source": [
        "import numpy as np\n",
        "\n",
        "import tensorflow_datasets as tfds\n",
        "import tensorflow as tf\n",
        "\n",
        "tfds.disable_progress_bar()"
      ]
    },
    {
      "cell_type": "markdown",
      "metadata": {
        "id": "1rXHa-w9JZhb"
      },
      "source": [
        "Import `matplotlib` and create a helper function to plot graphs:"
      ]
    },
    {
      "cell_type": "code",
      "execution_count": 3,
      "metadata": {
        "id": "Mp1Z7P9pYRSK"
      },
      "outputs": [],
      "source": [
        "import matplotlib.pyplot as plt\n",
        "\n",
        "\n",
        "def plot_graphs(history, metric):\n",
        "  plt.plot(history.history[metric])\n",
        "  plt.plot(history.history['val_'+metric], '')\n",
        "  plt.xlabel(\"Epochs\")\n",
        "  plt.ylabel(metric)\n",
        "  plt.legend([metric, 'val_'+metric])"
      ]
    },
    {
      "cell_type": "markdown",
      "metadata": {
        "id": "pRmMubr0jrE2"
      },
      "source": [
        "## Setup input pipeline\n",
        "\n",
        "\n",
        "The IMDB large movie review dataset is a *binary classification* dataset—all the reviews have either a *positive* or *negative* sentiment.\n",
        "\n",
        "Download the dataset using [TFDS](https://www.tensorflow.org/datasets). See the [loading text tutorial](https://www.tensorflow.org/tutorials/load_data/text) for details on how to load this sort of data manually.\n"
      ]
    },
    {
      "cell_type": "code",
      "execution_count": 4,
      "metadata": {
        "id": "SHRwRoP2nVHX",
        "colab": {
          "base_uri": "https://localhost:8080/"
        },
        "outputId": "ca994149-b7ab-4dd4-a15a-8859bbab663f"
      },
      "outputs": [
        {
          "output_type": "stream",
          "name": "stdout",
          "text": [
            "\u001b[1mDownloading and preparing dataset 80.23 MiB (download: 80.23 MiB, generated: Unknown size, total: 80.23 MiB) to ~/tensorflow_datasets/imdb_reviews/plain_text/1.0.0...\u001b[0m\n",
            "\u001b[1mDataset imdb_reviews downloaded and prepared to ~/tensorflow_datasets/imdb_reviews/plain_text/1.0.0. Subsequent calls will reuse this data.\u001b[0m\n"
          ]
        },
        {
          "output_type": "execute_result",
          "data": {
            "text/plain": [
              "(TensorSpec(shape=(), dtype=tf.string, name=None),\n",
              " TensorSpec(shape=(), dtype=tf.int64, name=None))"
            ]
          },
          "metadata": {},
          "execution_count": 4
        }
      ],
      "source": [
        "dataset, info = tfds.load('imdb_reviews', with_info=True,\n",
        "                          as_supervised=True)\n",
        "train_dataset, test_dataset = dataset['train'], dataset['test']\n",
        "\n",
        "train_dataset.element_spec"
      ]
    },
    {
      "cell_type": "markdown",
      "metadata": {
        "id": "nWA4c2ir7g6p"
      },
      "source": [
        "Initially this returns a dataset of (text, label pairs):"
      ]
    },
    {
      "cell_type": "code",
      "execution_count": 5,
      "metadata": {
        "id": "vd4_BGKyurao",
        "colab": {
          "base_uri": "https://localhost:8080/"
        },
        "outputId": "113e09fc-615e-4a34-ad95-0768514319be"
      },
      "outputs": [
        {
          "output_type": "stream",
          "name": "stdout",
          "text": [
            "text:  b\"This was an absolutely terrible movie. Don't be lured in by Christopher Walken or Michael Ironside. Both are great actors, but this must simply be their worst role in history. Even their great acting could not redeem this movie's ridiculous storyline. This movie is an early nineties US propaganda piece. The most pathetic scenes were those when the Columbian rebels were making their cases for revolutions. Maria Conchita Alonso appeared phony, and her pseudo-love affair with Walken was nothing but a pathetic emotional plug in a movie that was devoid of any real meaning. I am disappointed that there are movies like this, ruining actor's like Christopher Walken's good name. I could barely sit through it.\"\n",
            "label:  0\n"
          ]
        }
      ],
      "source": [
        "for example, label in train_dataset.take(1):\n",
        "  print('text: ', example.numpy())\n",
        "  print('label: ', label.numpy())"
      ]
    },
    {
      "cell_type": "markdown",
      "metadata": {
        "id": "z2qVJzcEluH_"
      },
      "source": [
        "Next shuffle the data for training and create batches of these `(text, label)` pairs:"
      ]
    },
    {
      "cell_type": "code",
      "execution_count": 6,
      "metadata": {
        "id": "dDsCaZCDYZgm"
      },
      "outputs": [],
      "source": [
        "BUFFER_SIZE = 10000\n",
        "BATCH_SIZE = 64"
      ]
    },
    {
      "cell_type": "code",
      "execution_count": 7,
      "metadata": {
        "id": "VznrltNOnUc5"
      },
      "outputs": [],
      "source": [
        "train_dataset = train_dataset.shuffle(BUFFER_SIZE).batch(BATCH_SIZE).prefetch(tf.data.AUTOTUNE)\n",
        "test_dataset = test_dataset.batch(BATCH_SIZE).prefetch(tf.data.AUTOTUNE)"
      ]
    },
    {
      "cell_type": "code",
      "execution_count": 8,
      "metadata": {
        "id": "jqkvdcFv41wC",
        "colab": {
          "base_uri": "https://localhost:8080/"
        },
        "outputId": "b9288bec-0ffb-4c86-c6ec-c4a7af290567"
      },
      "outputs": [
        {
          "output_type": "stream",
          "name": "stdout",
          "text": [
            "texts:  [b'\"Shinobi\" is one of those movies that thinks the mere act of killing off a character automatically brings a sense of gravitas or emotion to the story. Unfortunately, for the audience to actually care about the people dying, you have to develop the characters, otherwise all you have is a bunch of random acts of violence. The problem is especially compounded when you have TONS of characters, all of whom die.<br /><br />OK, so if you can\\'t be bothered to make the characters memorable or sympathetic in any way, you can at least make the REASONS for why they die plausible, right? Nope. Here we have a war between two ninja clans, with neither side really knowing WHY they are fighting each other. They kill each other because the emperor says so. Yet even well after it becomes glaringly obvious that the emperor wants ALL of them dead, they still refuse to abandon their meaningless missions. That\\'s not stubbornness... that\\'s just plain dumb.<br /><br />Fine, fine! There is no character development, and the plot provides no reasonable rationale for fighting. At least they die fighting in cool action scenes, right? Yet again, NO! In fact, many of the fights aren\\'t even fights at all: super ninjas that the movie spent so much time and effort introducing die suddenly (and lamely, in my opinion). I\\'m talking about things like, \"Lalala, I\\'m walking along and I- *neck gets slashed*.\" THE END for that character. Not even halfway through the film, I threw my hands up in frustration at the ludicrousness of it.'\n",
            " b'Truly this is a \\'heart-warming\\' film. It won the George Peobody Award, winning over \"Roots\", so that may tell you something of the essence of this film. I am looking on the Internet how to order this movie since my former father-in-law, Eugene Logan, the co-writer of this film has been deceased for a few years now so I no longer have the opportunity to receive information from him. I would love to have his only grand-daughters, my daughters, see this film, as well as to pass this wonderful story on to his great-grandsons. My oldest daughter was seven years old at the time it was aired on television and I since have been looking forward to seeing it again. One of my friends said it was her favorite movie. I won\\'t \\'spoil\\' this movie for you.'\n",
            " b\"I realize that bringing a novel to the big screen is always problematic. That is the only positive thing I can say about this truly horrid adaptation.<br /><br />Have you read 'Wise Blood?' It's an amazing book. Flannery O'Connor wrote about the south as no one else has. She was a southerner herself, a devout catholic, and a remarkably gifted writer. In her first novel she wove together a dark and deeply disturbing tale of faith, doubt, and redemption with a macabre sense of humor and surprising evenhandedness. The characters in the book may seem outrageous to those who have not lived in the rural south, but I can assure you that such people do exist. Not only do they exist, they are human beings with families, feelings, and concerns like anyone else. Flannery's intentions were so often misunderstood - she was not lampooning these backwoods zealots - she saw in them the beautiful operation of what she would have called 'grace'...even in the most violent, distressing, and maddening of circumstances. To read 'Wise Blood' is to be washed over with a sense of dread and impending doom. Finally, it is to think long and hard about our judgments and preconceptions - our entire world view.<br /><br />None of this comes through in John Huston's 'Gilligan's Island'-like adaptation. None. It is a farce. A bad farce. The entire film is saturated with a hauteur that turns the stomach. The acting is poor, the southern accents are fake and insulting. The filmmakers show no insight into the thinking of religious southerners. Ms. O'Connor's intense prose are reduced to sight gags and cheap, amateur theatre. The soundtrack is a mixture of hayseed silliness and 'Clockwork Orange'-style cheeseball electronics that doesn't fit the story or even the MOVIE. I was granted free admission to this movie and almost walked out. Truly, truly terrible.<br /><br />As an aside, I do not agree with Ms. O'Connor's religious views, and while I was raised in the deep south, years ago I made my way north and have not looked back. But the south is a beautiful place full of fascinating individuals (like every other place on earth), and the cartoonish mockery with which southerners and their attitudes are dealt in this movie borders on offensive. If you're into being offended (which I am not), then this movie most DEFINITELY crosses the line.<br /><br />I don't like to talk crap about an artist's work - John Huston was a man that I did not know, and I'm sure he was a sincere and gifted filmmaker, to which his respected place in film history attests. My views are clearly skewed by having read (and loved) Flannery O'Connor's work. So I don't claim to be coming from any other perspective. Maybe as a stand-alone film it works for cinephiles. But for Flannery O'Connor fans - and, I might add, for self-respecting southerners and openminded individuals of all stripes - this movie is a waste of time.\"]\n",
            "\n",
            "labels:  [0 1 0]\n"
          ]
        }
      ],
      "source": [
        "for example, label in train_dataset.take(1):\n",
        "  print('texts: ', example.numpy()[:3])\n",
        "  print()\n",
        "  print('labels: ', label.numpy()[:3])"
      ]
    },
    {
      "cell_type": "markdown",
      "metadata": {
        "id": "s5eWCo88voPY"
      },
      "source": [
        "## Create the text encoder"
      ]
    },
    {
      "cell_type": "markdown",
      "metadata": {
        "id": "TFevcItw15P_"
      },
      "source": [
        "The raw text loaded by `tfds` needs to be processed before it can be used in a model. The simplest way to process text for training is using the `TextVectorization` layer. This layer has many capabilities, but this tutorial sticks to the default behavior.\n",
        "\n",
        "Create the layer, and pass the dataset's text to the layer's `.adapt` method:"
      ]
    },
    {
      "cell_type": "code",
      "execution_count": 9,
      "metadata": {
        "id": "uC25Lu1Yvuqy"
      },
      "outputs": [],
      "source": [
        "VOCAB_SIZE = 1000\n",
        "encoder = tf.keras.layers.TextVectorization(\n",
        "    max_tokens=VOCAB_SIZE)\n",
        "encoder.adapt(train_dataset.map(lambda text, label: text))"
      ]
    },
    {
      "cell_type": "markdown",
      "metadata": {
        "id": "IuQzVBbe3Ldu"
      },
      "source": [
        "The `.adapt` method sets the layer's vocabulary. Here are the first 20 tokens. After the padding and unknown tokens they're sorted by frequency: "
      ]
    },
    {
      "cell_type": "code",
      "execution_count": 10,
      "metadata": {
        "id": "tBoyjjWg0Ac9",
        "colab": {
          "base_uri": "https://localhost:8080/"
        },
        "outputId": "4e12e3be-57ff-4ff4-a562-b283139e50c3"
      },
      "outputs": [
        {
          "output_type": "execute_result",
          "data": {
            "text/plain": [
              "array(['', '[UNK]', 'the', 'and', 'a', 'of', 'to', 'is', 'in', 'it', 'i',\n",
              "       'this', 'that', 'br', 'was', 'as', 'for', 'with', 'movie', 'but'],\n",
              "      dtype='<U14')"
            ]
          },
          "metadata": {},
          "execution_count": 10
        }
      ],
      "source": [
        "vocab = np.array(encoder.get_vocabulary())\n",
        "vocab[:20]"
      ]
    },
    {
      "cell_type": "markdown",
      "metadata": {
        "id": "mjId5pua3jHQ"
      },
      "source": [
        "Once the vocabulary is set, the layer can encode text into indices. The tensors of indices are 0-padded to the longest sequence in the batch (unless you set a fixed `output_sequence_length`):"
      ]
    },
    {
      "cell_type": "code",
      "execution_count": 11,
      "metadata": {
        "id": "RGc7C9WiwRWs",
        "colab": {
          "base_uri": "https://localhost:8080/"
        },
        "outputId": "66372382-d74c-4060-abf4-27f0e329f6ff"
      },
      "outputs": [
        {
          "output_type": "execute_result",
          "data": {
            "text/plain": [
              "array([[  1,   7,  29, ...,   0,   0,   0],\n",
              "       [353,  11,   7, ...,   0,   0,   0],\n",
              "       [ 10, 888,  12, ...,   0,   0,   0]])"
            ]
          },
          "metadata": {},
          "execution_count": 11
        }
      ],
      "source": [
        "encoded_example = encoder(example)[:3].numpy()\n",
        "encoded_example"
      ]
    },
    {
      "cell_type": "markdown",
      "metadata": {
        "id": "F5cjz0bS39IN"
      },
      "source": [
        "With the default settings, the process is not completely reversible. There are three main reasons for that:\n",
        "\n",
        "1. The default value for `preprocessing.TextVectorization`'s `standardize` argument is `\"lower_and_strip_punctuation\"`.\n",
        "2. The limited vocabulary size and lack of character-based fallback results in some unknown tokens."
      ]
    },
    {
      "cell_type": "code",
      "execution_count": 12,
      "metadata": {
        "id": "N_tD0QY5wXaK",
        "colab": {
          "base_uri": "https://localhost:8080/"
        },
        "outputId": "422f959a-ee5e-43a1-d8d7-4eed671e0ac6"
      },
      "outputs": [
        {
          "output_type": "stream",
          "name": "stdout",
          "text": [
            "Original:  b'\"Shinobi\" is one of those movies that thinks the mere act of killing off a character automatically brings a sense of gravitas or emotion to the story. Unfortunately, for the audience to actually care about the people dying, you have to develop the characters, otherwise all you have is a bunch of random acts of violence. The problem is especially compounded when you have TONS of characters, all of whom die.<br /><br />OK, so if you can\\'t be bothered to make the characters memorable or sympathetic in any way, you can at least make the REASONS for why they die plausible, right? Nope. Here we have a war between two ninja clans, with neither side really knowing WHY they are fighting each other. They kill each other because the emperor says so. Yet even well after it becomes glaringly obvious that the emperor wants ALL of them dead, they still refuse to abandon their meaningless missions. That\\'s not stubbornness... that\\'s just plain dumb.<br /><br />Fine, fine! There is no character development, and the plot provides no reasonable rationale for fighting. At least they die fighting in cool action scenes, right? Yet again, NO! In fact, many of the fights aren\\'t even fights at all: super ninjas that the movie spent so much time and effort introducing die suddenly (and lamely, in my opinion). I\\'m talking about things like, \"Lalala, I\\'m walking along and I- *neck gets slashed*.\" THE END for that character. Not even halfway through the film, I threw my hands up in frustration at the ludicrousness of it.'\n",
            "Round-trip:  [UNK] is one of those movies that [UNK] the [UNK] act of killing off a character [UNK] brings a sense of [UNK] or [UNK] to the story unfortunately for the audience to actually care about the people [UNK] you have to [UNK] the characters otherwise all you have is a bunch of [UNK] [UNK] of violence the problem is especially [UNK] when you have [UNK] of characters all of whom [UNK] br ok so if you cant be [UNK] to make the characters memorable or [UNK] in any way you can at least make the [UNK] for why they die [UNK] right [UNK] here we have a war between two [UNK] [UNK] with [UNK] side really [UNK] why they are fighting each other they kill each other because the [UNK] says so yet even well after it becomes [UNK] obvious that the [UNK] wants all of them dead they still [UNK] to [UNK] their [UNK] [UNK] thats not [UNK] thats just [UNK] [UNK] br fine fine there is no character development and the plot [UNK] no [UNK] [UNK] for fighting at least they die fighting in cool action scenes right yet again no in fact many of the [UNK] arent even [UNK] at all [UNK] [UNK] that the movie [UNK] so much time and effort [UNK] die [UNK] and [UNK] in my opinion im talking about things like [UNK] im [UNK] along and i [UNK] gets [UNK] the end for that character not even [UNK] through the film i [UNK] my hands up in [UNK] at the [UNK] of it                                                                                                                                                                                                                                                                                                                                                                                                                                                                                                                                                                                                                                                                                                                                                         \n",
            "\n",
            "Original:  b'Truly this is a \\'heart-warming\\' film. It won the George Peobody Award, winning over \"Roots\", so that may tell you something of the essence of this film. I am looking on the Internet how to order this movie since my former father-in-law, Eugene Logan, the co-writer of this film has been deceased for a few years now so I no longer have the opportunity to receive information from him. I would love to have his only grand-daughters, my daughters, see this film, as well as to pass this wonderful story on to his great-grandsons. My oldest daughter was seven years old at the time it was aired on television and I since have been looking forward to seeing it again. One of my friends said it was her favorite movie. I won\\'t \\'spoil\\' this movie for you.'\n",
            "Round-trip:  truly this is a [UNK] film it [UNK] the george [UNK] [UNK] [UNK] over [UNK] so that may tell you something of the [UNK] of this film i am looking on the [UNK] how to order this movie since my [UNK] [UNK] [UNK] [UNK] the [UNK] of this film has been [UNK] for a few years now so i no [UNK] have the [UNK] to [UNK] [UNK] from him i would love to have his only [UNK] my [UNK] see this film as well as to [UNK] this wonderful story on to his [UNK] my [UNK] daughter was [UNK] years old at the time it was [UNK] on television and i since have been looking forward to seeing it again one of my friends said it was her favorite movie i wont [UNK] this movie for you                                                                                                                                                                                                                                                                                                                                                                                                                                                                                                                                                                                                                                                                                                                                                                                                                                                                                    \n",
            "\n",
            "Original:  b\"I realize that bringing a novel to the big screen is always problematic. That is the only positive thing I can say about this truly horrid adaptation.<br /><br />Have you read 'Wise Blood?' It's an amazing book. Flannery O'Connor wrote about the south as no one else has. She was a southerner herself, a devout catholic, and a remarkably gifted writer. In her first novel she wove together a dark and deeply disturbing tale of faith, doubt, and redemption with a macabre sense of humor and surprising evenhandedness. The characters in the book may seem outrageous to those who have not lived in the rural south, but I can assure you that such people do exist. Not only do they exist, they are human beings with families, feelings, and concerns like anyone else. Flannery's intentions were so often misunderstood - she was not lampooning these backwoods zealots - she saw in them the beautiful operation of what she would have called 'grace'...even in the most violent, distressing, and maddening of circumstances. To read 'Wise Blood' is to be washed over with a sense of dread and impending doom. Finally, it is to think long and hard about our judgments and preconceptions - our entire world view.<br /><br />None of this comes through in John Huston's 'Gilligan's Island'-like adaptation. None. It is a farce. A bad farce. The entire film is saturated with a hauteur that turns the stomach. The acting is poor, the southern accents are fake and insulting. The filmmakers show no insight into the thinking of religious southerners. Ms. O'Connor's intense prose are reduced to sight gags and cheap, amateur theatre. The soundtrack is a mixture of hayseed silliness and 'Clockwork Orange'-style cheeseball electronics that doesn't fit the story or even the MOVIE. I was granted free admission to this movie and almost walked out. Truly, truly terrible.<br /><br />As an aside, I do not agree with Ms. O'Connor's religious views, and while I was raised in the deep south, years ago I made my way north and have not looked back. But the south is a beautiful place full of fascinating individuals (like every other place on earth), and the cartoonish mockery with which southerners and their attitudes are dealt in this movie borders on offensive. If you're into being offended (which I am not), then this movie most DEFINITELY crosses the line.<br /><br />I don't like to talk crap about an artist's work - John Huston was a man that I did not know, and I'm sure he was a sincere and gifted filmmaker, to which his respected place in film history attests. My views are clearly skewed by having read (and loved) Flannery O'Connor's work. So I don't claim to be coming from any other perspective. Maybe as a stand-alone film it works for cinephiles. But for Flannery O'Connor fans - and, I might add, for self-respecting southerners and openminded individuals of all stripes - this movie is a waste of time.\"\n",
            "Round-trip:  i realize that [UNK] a novel to the big screen is always [UNK] that is the only [UNK] thing i can say about this truly [UNK] [UNK] br have you read [UNK] blood its an amazing book [UNK] [UNK] [UNK] about the [UNK] as no one else has she was a [UNK] herself a [UNK] [UNK] and a [UNK] [UNK] writer in her first novel she [UNK] together a dark and [UNK] [UNK] tale of [UNK] doubt and [UNK] with a [UNK] sense of humor and [UNK] [UNK] the characters in the book may seem [UNK] to those who have not [UNK] in the [UNK] [UNK] but i can [UNK] you that such people do [UNK] not only do they [UNK] they are human [UNK] with [UNK] [UNK] and [UNK] like anyone else [UNK] [UNK] were so often [UNK] she was not [UNK] these [UNK] [UNK] she saw in them the beautiful [UNK] of what she would have called [UNK] in the most [UNK] [UNK] and [UNK] of [UNK] to read [UNK] blood is to be [UNK] over with a sense of [UNK] and [UNK] [UNK] finally it is to think long and hard about our [UNK] and [UNK] our entire world [UNK] br none of this comes through in john [UNK] [UNK] [UNK] [UNK] none it is a [UNK] a bad [UNK] the entire film is [UNK] with a [UNK] that turns the [UNK] the acting is poor the [UNK] [UNK] are [UNK] and [UNK] the filmmakers show no [UNK] into the thinking of [UNK] [UNK] [UNK] [UNK] [UNK] [UNK] are [UNK] to [UNK] [UNK] and cheap [UNK] [UNK] the soundtrack is a [UNK] of [UNK] [UNK] and [UNK] [UNK] [UNK] [UNK] that doesnt [UNK] the story or even the movie i was [UNK] free [UNK] to this movie and almost [UNK] out truly truly [UNK] br as an [UNK] i do not [UNK] with [UNK] [UNK] [UNK] [UNK] and while i was [UNK] in the deep [UNK] years ago i made my way [UNK] and have not looked back but the [UNK] is a beautiful place full of [UNK] [UNK] like every other place on earth and the [UNK] [UNK] with which [UNK] and their [UNK] are [UNK] in this movie [UNK] on [UNK] if youre into being [UNK] which i am not then this movie most definitely [UNK] the [UNK] br i dont like to talk crap about an [UNK] work john [UNK] was a man that i did not know and im sure he was a [UNK] and [UNK] [UNK] to which his [UNK] place in film history [UNK] my [UNK] are clearly [UNK] by having read and loved [UNK] [UNK] work so i dont [UNK] to be coming from any other [UNK] maybe as a [UNK] film it works for [UNK] but for [UNK] [UNK] fans and i might add for [UNK] [UNK] and [UNK] [UNK] of all [UNK] this movie is a waste of time                                                                                                                                                                                                                                                                                                                                                                                                                                                                                                                  \n",
            "\n"
          ]
        }
      ],
      "source": [
        "for n in range(3):\n",
        "  print(\"Original: \", example[n].numpy())\n",
        "  print(\"Round-trip: \", \" \".join(vocab[encoded_example[n]]))\n",
        "  print()"
      ]
    },
    {
      "cell_type": "markdown",
      "metadata": {
        "id": "bjUqGVBxGw-t"
      },
      "source": [
        "## Create the model"
      ]
    },
    {
      "cell_type": "markdown",
      "metadata": {
        "id": "W7zsmInBOCPO"
      },
      "source": [
        "![A drawing of the information flow in the model](https://github.com/tensorflow/text/blob/master/docs/tutorials/images/bidirectional.png?raw=1)"
      ]
    },
    {
      "cell_type": "markdown",
      "metadata": {
        "id": "bgs6nnSTGw-t"
      },
      "source": [
        "Above is a diagram of the model. \n",
        "\n",
        "1. This model can be build as a `tf.keras.Sequential`.\n",
        "\n",
        "2. The first layer is the `encoder`, which converts the text to a sequence of token indices.\n",
        "\n",
        "3. After the encoder is an embedding layer. An embedding layer stores one vector per word. When called, it converts the sequences of word indices to sequences of vectors. These vectors are trainable. After training (on enough data), words with similar meanings often have similar vectors.\n",
        "\n",
        "  This index-lookup is much more efficient than the equivalent operation of passing a one-hot encoded vector through a `tf.keras.layers.Dense` layer.\n",
        "\n",
        "4. A recurrent neural network (RNN) processes sequence input by iterating through the elements. RNNs pass the outputs from one timestep to their input on the next timestep.\n",
        "\n",
        "  The `tf.keras.layers.Bidirectional` wrapper can also be used with an RNN layer. This propagates the input forward and backwards through the RNN layer and then concatenates the final output. \n",
        "\n",
        "  * The main advantage of a bidirectional RNN is that the signal from the beginning of the input doesn't need to be processed all the way through every timestep to affect the output.  \n",
        "\n",
        "  * The main disadvantage of a bidirectional RNN is that you can't efficiently stream predictions as words are being added to the end.\n",
        "\n",
        "5. After the RNN has converted the sequence to a single vector the two `layers.Dense` do some final processing, and convert from this vector representation to a single logit as the classification output. \n"
      ]
    },
    {
      "cell_type": "markdown",
      "metadata": {
        "id": "V4fodCI7soQi"
      },
      "source": [
        "The code to implement this is below:"
      ]
    },
    {
      "cell_type": "code",
      "execution_count": 13,
      "metadata": {
        "id": "LwfoBkmRYcP3"
      },
      "outputs": [],
      "source": [
        "model = tf.keras.Sequential([\n",
        "    encoder,\n",
        "    tf.keras.layers.Embedding(\n",
        "        input_dim=len(encoder.get_vocabulary()),\n",
        "        output_dim=64,\n",
        "        # Use masking to handle the variable sequence lengths\n",
        "        mask_zero=True),\n",
        "    tf.keras.layers.Bidirectional(tf.keras.layers.LSTM(64)),\n",
        "    tf.keras.layers.Dense(64, activation='relu'),\n",
        "    tf.keras.layers.Dense(1)\n",
        "])"
      ]
    },
    {
      "cell_type": "markdown",
      "metadata": {
        "id": "QIGmIGkkouUb"
      },
      "source": [
        "Please note that Keras sequential model is used here since all the layers in the model only have single input and produce single output. In case you want to use stateful RNN layer, you might want to build your model with Keras functional API or model subclassing so that you can retrieve and reuse the RNN layer states. Please check [Keras RNN guide](https://www.tensorflow.org/guide/keras/rnn#rnn_state_reuse) for more details."
      ]
    },
    {
      "cell_type": "markdown",
      "metadata": {
        "id": "kF-PsCk1LwjY"
      },
      "source": [
        "The embedding layer [uses masking](https://www.tensorflow.org/guide/keras/masking_and_padding) to handle the varying sequence-lengths. All the layers after the `Embedding` support masking:"
      ]
    },
    {
      "cell_type": "code",
      "execution_count": 14,
      "metadata": {
        "id": "87a8-CwfKebw",
        "colab": {
          "base_uri": "https://localhost:8080/"
        },
        "outputId": "c827f78e-d00a-4168-aea9-eb4e0dd6a0e7"
      },
      "outputs": [
        {
          "output_type": "stream",
          "name": "stdout",
          "text": [
            "[False, True, True, True, True]\n"
          ]
        }
      ],
      "source": [
        "print([layer.supports_masking for layer in model.layers])"
      ]
    },
    {
      "cell_type": "markdown",
      "metadata": {
        "id": "ZlS0iaUIWLpI"
      },
      "source": [
        "To confirm that this works as expected, evaluate a sentence twice. First, alone so there's no padding to mask:"
      ]
    },
    {
      "cell_type": "code",
      "execution_count": 15,
      "metadata": {
        "id": "O41gw3KfWHus",
        "colab": {
          "base_uri": "https://localhost:8080/"
        },
        "outputId": "d7d6c2dd-4879-44e5-89f8-6545f68497bb"
      },
      "outputs": [
        {
          "output_type": "stream",
          "name": "stdout",
          "text": [
            "1/1 [==============================] - 7s 7s/step\n",
            "[0.01335089]\n"
          ]
        }
      ],
      "source": [
        "# predict on a sample text without padding.\n",
        "\n",
        "sample_text = ('The movie was cool. The animation and the graphics '\n",
        "               'were out of this world. I would recommend this movie.')\n",
        "predictions = model.predict(np.array([sample_text]))\n",
        "print(predictions[0])"
      ]
    },
    {
      "cell_type": "markdown",
      "metadata": {
        "id": "K0VQmGnEWcuz"
      },
      "source": [
        "Now, evaluate it again in a batch with a longer sentence. The result should be identical:"
      ]
    },
    {
      "cell_type": "code",
      "execution_count": 16,
      "metadata": {
        "id": "UIgpuTeFNDzq",
        "colab": {
          "base_uri": "https://localhost:8080/"
        },
        "outputId": "6532a3e4-1fee-4873-a0e5-253c9a6b8728"
      },
      "outputs": [
        {
          "output_type": "stream",
          "name": "stdout",
          "text": [
            "1/1 [==============================] - 0s 141ms/step\n",
            "[0.01335089]\n"
          ]
        }
      ],
      "source": [
        "# predict on a sample text with padding\n",
        "\n",
        "padding = \"the \" * 2000\n",
        "predictions = model.predict(np.array([sample_text, padding]))\n",
        "print(predictions[0])"
      ]
    },
    {
      "cell_type": "markdown",
      "metadata": {
        "id": "sRI776ZcH3Tf"
      },
      "source": [
        "Compile the Keras model to configure the training process:"
      ]
    },
    {
      "cell_type": "code",
      "execution_count": 17,
      "metadata": {
        "id": "kj2xei41YZjC"
      },
      "outputs": [],
      "source": [
        "model.compile(loss=tf.keras.losses.BinaryCrossentropy(from_logits=True),\n",
        "              optimizer=tf.keras.optimizers.Adam(1e-4),\n",
        "              metrics=['accuracy'])"
      ]
    },
    {
      "cell_type": "markdown",
      "metadata": {
        "id": "zIwH3nto596k"
      },
      "source": [
        "## Train the model"
      ]
    },
    {
      "cell_type": "code",
      "execution_count": 18,
      "metadata": {
        "id": "hw86wWS4YgR2",
        "colab": {
          "base_uri": "https://localhost:8080/"
        },
        "outputId": "4a831b93-f7ad-4ca2-9f45-0246808c1324"
      },
      "outputs": [
        {
          "output_type": "stream",
          "name": "stdout",
          "text": [
            "Epoch 1/10\n",
            "391/391 [==============================] - 41s 87ms/step - loss: 0.6438 - accuracy: 0.5594 - val_loss: 0.4637 - val_accuracy: 0.7828\n",
            "Epoch 2/10\n",
            "391/391 [==============================] - 32s 83ms/step - loss: 0.4232 - accuracy: 0.8053 - val_loss: 0.4299 - val_accuracy: 0.7891\n",
            "Epoch 3/10\n",
            "391/391 [==============================] - 31s 80ms/step - loss: 0.3675 - accuracy: 0.8405 - val_loss: 0.3595 - val_accuracy: 0.8401\n",
            "Epoch 4/10\n",
            "391/391 [==============================] - 32s 80ms/step - loss: 0.3336 - accuracy: 0.8551 - val_loss: 0.3500 - val_accuracy: 0.8281\n",
            "Epoch 5/10\n",
            "391/391 [==============================] - 32s 80ms/step - loss: 0.3184 - accuracy: 0.8616 - val_loss: 0.3313 - val_accuracy: 0.8599\n",
            "Epoch 6/10\n",
            "391/391 [==============================] - 33s 84ms/step - loss: 0.3097 - accuracy: 0.8676 - val_loss: 0.3423 - val_accuracy: 0.8292\n",
            "Epoch 7/10\n",
            "391/391 [==============================] - 33s 83ms/step - loss: 0.3048 - accuracy: 0.8693 - val_loss: 0.3226 - val_accuracy: 0.8635\n",
            "Epoch 8/10\n",
            "391/391 [==============================] - 32s 82ms/step - loss: 0.3018 - accuracy: 0.8706 - val_loss: 0.3190 - val_accuracy: 0.8609\n",
            "Epoch 9/10\n",
            "391/391 [==============================] - 33s 83ms/step - loss: 0.3001 - accuracy: 0.8724 - val_loss: 0.3236 - val_accuracy: 0.8646\n",
            "Epoch 10/10\n",
            "391/391 [==============================] - 32s 82ms/step - loss: 0.2989 - accuracy: 0.8714 - val_loss: 0.3271 - val_accuracy: 0.8552\n"
          ]
        }
      ],
      "source": [
        "history = model.fit(train_dataset, epochs=10,\n",
        "                    validation_data=test_dataset,\n",
        "                    validation_steps=30)"
      ]
    },
    {
      "cell_type": "code",
      "execution_count": 19,
      "metadata": {
        "id": "BaNbXi43YgUT",
        "colab": {
          "base_uri": "https://localhost:8080/"
        },
        "outputId": "03ad4a4b-11a3-484d-dca8-9e2c6f2fd666"
      },
      "outputs": [
        {
          "output_type": "stream",
          "name": "stdout",
          "text": [
            "391/391 [==============================] - 18s 46ms/step - loss: 0.3213 - accuracy: 0.8538\n",
            "Test Loss: 0.32130593061447144\n",
            "Test Accuracy: 0.8537999987602234\n"
          ]
        }
      ],
      "source": [
        "test_loss, test_acc = model.evaluate(test_dataset)\n",
        "\n",
        "print('Test Loss:', test_loss)\n",
        "print('Test Accuracy:', test_acc)"
      ]
    },
    {
      "cell_type": "code",
      "execution_count": 20,
      "metadata": {
        "id": "OZmwt_mzaQJk",
        "colab": {
          "base_uri": "https://localhost:8080/",
          "height": 518
        },
        "outputId": "3b7df4f6-4d91-45da-f47b-de6b7ce8352c"
      },
      "outputs": [
        {
          "output_type": "execute_result",
          "data": {
            "text/plain": [
              "(0.0, 0.6610409885644912)"
            ]
          },
          "metadata": {},
          "execution_count": 20
        },
        {
          "output_type": "display_data",
          "data": {
            "text/plain": [
              "<Figure size 1152x576 with 2 Axes>"
            ],
            "image/png": "[encoded data removed]"
          },
          "metadata": {
            "needs_background": "light"
          }
        }
      ],
      "source": [
        "plt.figure(figsize=(16, 8))\n",
        "plt.subplot(1, 2, 1)\n",
        "plot_graphs(history, 'accuracy')\n",
        "plt.ylim(None, 1)\n",
        "plt.subplot(1, 2, 2)\n",
        "plot_graphs(history, 'loss')\n",
        "plt.ylim(0, None)"
      ]
    },
    {
      "cell_type": "markdown",
      "metadata": {
        "id": "DwSE_386uhxD"
      },
      "source": [
        "Run a prediction on a new sentence:\n",
        "\n",
        "If the prediction is >= 0.0, it is positive else it is negative."
      ]
    },
    {
      "cell_type": "code",
      "execution_count": 21,
      "metadata": {
        "id": "ZXgfQSgRW6zU",
        "colab": {
          "base_uri": "https://localhost:8080/"
        },
        "outputId": "146253ee-e7b4-442e-a5a2-a545bf0a2be0"
      },
      "outputs": [
        {
          "output_type": "stream",
          "name": "stdout",
          "text": [
            "1/1 [==============================] - 2s 2s/step\n"
          ]
        }
      ],
      "source": [
        "sample_text = ('The movie was cool. The animation and the graphics '\n",
        "               'were out of this world. I would recommend this movie.')\n",
        "predictions = model.predict(np.array([sample_text]))"
      ]
    },
    {
      "cell_type": "markdown",
      "metadata": {
        "id": "7g1evcaRpTKm"
      },
      "source": [
        "## Stack two or more LSTM layers\n",
        "\n",
        "Keras recurrent layers have two available modes that are controlled by the `return_sequences` constructor argument:\n",
        "\n",
        "* If `False` it returns only the last output for each input sequence (a 2D tensor of shape (batch_size, output_features)). This is the default, used in the previous model.\n",
        "\n",
        "* If `True` the full sequences of successive outputs for each timestep is returned (a 3D tensor of shape `(batch_size, timesteps, output_features)`).\n",
        "\n",
        "Here is what the flow of information looks like with `return_sequences=True`:\n",
        "\n",
        "![layered_bidirectional](https://github.com/tensorflow/text/blob/master/docs/tutorials/images/layered_bidirectional.png?raw=1)"
      ]
    },
    {
      "cell_type": "markdown",
      "metadata": {
        "id": "wbSClCrG1z8l"
      },
      "source": [
        "The interesting thing about using an `RNN` with `return_sequences=True` is that the output still has 3-axes, like the input, so it can be passed to another RNN layer, like this:"
      ]
    },
    {
      "cell_type": "code",
      "execution_count": 22,
      "metadata": {
        "id": "jo1jjO3vn0jo"
      },
      "outputs": [],
      "source": [
        "model = tf.keras.Sequential([\n",
        "    encoder,\n",
        "    tf.keras.layers.Embedding(len(encoder.get_vocabulary()), 64, mask_zero=True),\n",
        "    tf.keras.layers.Bidirectional(tf.keras.layers.LSTM(64,  return_sequences=True)),\n",
        "    tf.keras.layers.Bidirectional(tf.keras.layers.LSTM(32)),\n",
        "    tf.keras.layers.Dense(64, activation='relu'),\n",
        "    tf.keras.layers.Dropout(0.5),\n",
        "    tf.keras.layers.Dense(1)\n",
        "])"
      ]
    },
    {
      "cell_type": "code",
      "execution_count": 23,
      "metadata": {
        "id": "hEPV5jVGp-is"
      },
      "outputs": [],
      "source": [
        "model.compile(loss=tf.keras.losses.BinaryCrossentropy(from_logits=True),\n",
        "              optimizer=tf.keras.optimizers.Adam(1e-4),\n",
        "              metrics=['accuracy'])"
      ]
    },
    {
      "cell_type": "code",
      "execution_count": 24,
      "metadata": {
        "id": "LeSE-YjdqAeN",
        "colab": {
          "base_uri": "https://localhost:8080/"
        },
        "outputId": "181a7205-e0d5-4ac1-a044-a4171bbe6572"
      },
      "outputs": [
        {
          "output_type": "stream",
          "name": "stdout",
          "text": [
            "Epoch 1/10\n",
            "391/391 [==============================] - 73s 152ms/step - loss: 0.6260 - accuracy: 0.5924 - val_loss: 0.4298 - val_accuracy: 0.8156\n",
            "Epoch 2/10\n",
            "391/391 [==============================] - 55s 141ms/step - loss: 0.3852 - accuracy: 0.8360 - val_loss: 0.3441 - val_accuracy: 0.8526\n",
            "Epoch 3/10\n",
            "391/391 [==============================] - 56s 141ms/step - loss: 0.3364 - accuracy: 0.8570 - val_loss: 0.3329 - val_accuracy: 0.8510\n",
            "Epoch 4/10\n",
            "391/391 [==============================] - 56s 143ms/step - loss: 0.3213 - accuracy: 0.8655 - val_loss: 0.3303 - val_accuracy: 0.8464\n",
            "Epoch 5/10\n",
            "391/391 [==============================] - 55s 140ms/step - loss: 0.3093 - accuracy: 0.8700 - val_loss: 0.3198 - val_accuracy: 0.8599\n",
            "Epoch 6/10\n",
            "391/391 [==============================] - 56s 144ms/step - loss: 0.3052 - accuracy: 0.8724 - val_loss: 0.3145 - val_accuracy: 0.8604\n",
            "Epoch 7/10\n",
            "391/391 [==============================] - 56s 143ms/step - loss: 0.3015 - accuracy: 0.8733 - val_loss: 0.3146 - val_accuracy: 0.8542\n",
            "Epoch 8/10\n",
            "391/391 [==============================] - 55s 141ms/step - loss: 0.2994 - accuracy: 0.8749 - val_loss: 0.3229 - val_accuracy: 0.8646\n",
            "Epoch 9/10\n",
            "391/391 [==============================] - 55s 141ms/step - loss: 0.2920 - accuracy: 0.8780 - val_loss: 0.3201 - val_accuracy: 0.8635\n",
            "Epoch 10/10\n",
            "391/391 [==============================] - 55s 141ms/step - loss: 0.2918 - accuracy: 0.8776 - val_loss: 0.3299 - val_accuracy: 0.8411\n"
          ]
        }
      ],
      "source": [
        "history = model.fit(train_dataset, epochs=10,\n",
        "                    validation_data=test_dataset,\n",
        "                    validation_steps=30)"
      ]
    },
    {
      "cell_type": "code",
      "execution_count": 25,
      "metadata": {
        "id": "_LdwilM1qPM3",
        "colab": {
          "base_uri": "https://localhost:8080/"
        },
        "outputId": "c9d202fa-fb1a-4682-b203-6f2748b775bd"
      },
      "outputs": [
        {
          "output_type": "stream",
          "name": "stdout",
          "text": [
            "391/391 [==============================] - 30s 77ms/step - loss: 0.3262 - accuracy: 0.8478\n",
            "Test Loss: 0.3262123763561249\n",
            "Test Accuracy: 0.8478400111198425\n"
          ]
        }
      ],
      "source": [
        "test_loss, test_acc = model.evaluate(test_dataset)\n",
        "\n",
        "print('Test Loss:', test_loss)\n",
        "print('Test Accuracy:', test_acc)"
      ]
    },
    {
      "cell_type": "code",
      "execution_count": 26,
      "metadata": {
        "id": "ykUKnAoqbycW",
        "colab": {
          "base_uri": "https://localhost:8080/"
        },
        "outputId": "c7c9fab3-1a1b-46e4-c534-64ef07b4012a"
      },
      "outputs": [
        {
          "output_type": "stream",
          "name": "stdout",
          "text": [
            "1/1 [==============================] - 5s 5s/step\n",
            "[[-1.8383739]]\n"
          ]
        }
      ],
      "source": [
        "# predict on a sample text without padding.\n",
        "\n",
        "sample_text = ('The movie was not good. The animation and the graphics '\n",
        "               'were terrible. I would not recommend this movie.')\n",
        "predictions = model.predict(np.array([sample_text]))\n",
        "print(predictions)"
      ]
    },
    {
      "cell_type": "code",
      "execution_count": 27,
      "metadata": {
        "id": "_YYub0EDtwCu",
        "colab": {
          "base_uri": "https://localhost:8080/",
          "height": 388
        },
        "outputId": "4b20468b-35da-4960-be49-90c2f06b0a7b"
      },
      "outputs": [
        {
          "output_type": "display_data",
          "data": {
            "text/plain": [
              "<Figure size 1152x432 with 2 Axes>"
            ],
            "image/png": "[encoded data removed]"
          },
          "metadata": {
            "needs_background": "light"
          }
        }
      ],
      "source": [
        "plt.figure(figsize=(16, 6))\n",
        "plt.subplot(1, 2, 1)\n",
        "plot_graphs(history, 'accuracy')\n",
        "plt.subplot(1, 2, 2)\n",
        "plot_graphs(history, 'loss')"
      ]
    },
    {
      "cell_type": "markdown",
      "metadata": {
        "id": "9xvpE3BaGw_V"
      },
      "source": [
        "Check out other existing recurrent layers such as [GRU layers](https://www.tensorflow.org/api_docs/python/tf/keras/layers/GRU).\n",
        "\n",
        "If you're interested in building custom RNNs, see the [Keras RNN Guide](https://www.tensorflow.org/guide/keras/rnn).\n"
      ]
    }
  ],
  "metadata": {
    "accelerator": "GPU",
    "colab": {
      "collapsed_sections": [],
      "provenance": [],
      "toc_visible": true
    },
    "kernelspec": {
      "display_name": "Python 3",
      "name": "python3"
    }
  },
  "nbformat": 4,
  "nbformat_minor": 0
}